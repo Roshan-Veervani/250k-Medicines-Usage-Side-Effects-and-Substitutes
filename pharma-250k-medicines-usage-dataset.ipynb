{
 "cells": [
  {
   "cell_type": "code",
   "execution_count": 1,
   "id": "b127f2ce",
   "metadata": {
    "_cell_guid": "b1076dfc-b9ad-4769-8c92-a6c4dae69d19",
    "_uuid": "8f2839f25d086af736a60e9eeb907d3b93b6e0e5",
    "papermill": {
     "duration": 1.366427,
     "end_time": "2023-09-18T08:23:34.376883",
     "exception": false,
     "start_time": "2023-09-18T08:23:33.010456",
     "status": "completed"
    },
    "tags": []
   },
   "outputs": [],
   "source": [
    "import numpy as np\n",
    "import pandas as pd\n",
    "import seaborn as sns\n",
    "import matplotlib.pyplot as plt"
   ]
  },
  {
   "cell_type": "code",
   "execution_count": 2,
   "id": "03d89bb6",
   "metadata": {
    "papermill": {
     "duration": 4.02087,
     "end_time": "2023-09-18T08:23:38.426844",
     "exception": false,
     "start_time": "2023-09-18T08:23:34.405974",
     "status": "completed"
    },
    "tags": []
   },
   "outputs": [
    {
     "name": "stdout",
     "output_type": "stream",
     "text": [
      "Index(['id', 'name', 'substitute0', 'substitute1', 'substitute2',\n",
      "       'substitute3', 'substitute4', 'sideEffect0', 'sideEffect1',\n",
      "       'sideEffect2', 'sideEffect3', 'sideEffect4', 'sideEffect5',\n",
      "       'sideEffect6', 'sideEffect7', 'sideEffect8', 'sideEffect9',\n",
      "       'sideEffect10', 'sideEffect11', 'sideEffect12', 'sideEffect13',\n",
      "       'sideEffect14', 'sideEffect15', 'sideEffect16', 'sideEffect17',\n",
      "       'sideEffect18', 'sideEffect19', 'sideEffect20', 'sideEffect21',\n",
      "       'sideEffect22', 'sideEffect23', 'sideEffect24', 'sideEffect25',\n",
      "       'sideEffect26', 'sideEffect27', 'sideEffect28', 'sideEffect29',\n",
      "       'sideEffect30', 'sideEffect31', 'sideEffect32', 'sideEffect33',\n",
      "       'sideEffect34', 'sideEffect35', 'sideEffect36', 'sideEffect37',\n",
      "       'sideEffect38', 'sideEffect39', 'sideEffect40', 'sideEffect41', 'use0',\n",
      "       'use1', 'use2', 'use3', 'use4', 'Chemical Class', 'Habit Forming',\n",
      "       'Therapeutic Class', 'Action Class'],\n",
      "      dtype='object')\n"
     ]
    },
    {
     "name": "stderr",
     "output_type": "stream",
     "text": [
      "C:\\Users\\rosha\\AppData\\Local\\Temp\\ipykernel_12076\\307424600.py:1: DtypeWarning: Columns (42,43,44,45,46,47,48) have mixed types. Specify dtype option on import or set low_memory=False.\n",
      "  df = pd.read_csv(\"\\\\Users\\\\rosha\\\\Desktop\\\\UM Internship\\\\250k Medicines Usage, Side Effects and Substitutes\\\\250k Medicines Usage, Side Effects and Substitutes.csv\")\n"
     ]
    }
   ],
   "source": [
    "df = pd.read_csv(\"\\\\Users\\\\rosha\\\\Desktop\\\\UM Internship\\\\250k Medicines Usage, Side Effects and Substitutes\\\\250k Medicines Usage, Side Effects and Substitutes.csv\")\n",
    "print(df.columns)"
   ]
  },
  {
   "cell_type": "code",
   "execution_count": 3,
   "id": "8ff33bd7",
   "metadata": {
    "papermill": {
     "duration": 0.062779,
     "end_time": "2023-09-18T08:23:38.499995",
     "exception": false,
     "start_time": "2023-09-18T08:23:38.437216",
     "status": "completed"
    },
    "tags": []
   },
   "outputs": [
    {
     "data": {
      "text/html": [
       "<div>\n",
       "<style scoped>\n",
       "    .dataframe tbody tr th:only-of-type {\n",
       "        vertical-align: middle;\n",
       "    }\n",
       "\n",
       "    .dataframe tbody tr th {\n",
       "        vertical-align: top;\n",
       "    }\n",
       "\n",
       "    .dataframe thead th {\n",
       "        text-align: right;\n",
       "    }\n",
       "</style>\n",
       "<table border=\"1\" class=\"dataframe\">\n",
       "  <thead>\n",
       "    <tr style=\"text-align: right;\">\n",
       "      <th></th>\n",
       "      <th>id</th>\n",
       "      <th>name</th>\n",
       "      <th>substitute0</th>\n",
       "      <th>substitute1</th>\n",
       "      <th>substitute2</th>\n",
       "      <th>substitute3</th>\n",
       "      <th>substitute4</th>\n",
       "      <th>sideEffect0</th>\n",
       "      <th>sideEffect1</th>\n",
       "      <th>sideEffect2</th>\n",
       "      <th>...</th>\n",
       "      <th>sideEffect41</th>\n",
       "      <th>use0</th>\n",
       "      <th>use1</th>\n",
       "      <th>use2</th>\n",
       "      <th>use3</th>\n",
       "      <th>use4</th>\n",
       "      <th>Chemical Class</th>\n",
       "      <th>Habit Forming</th>\n",
       "      <th>Therapeutic Class</th>\n",
       "      <th>Action Class</th>\n",
       "    </tr>\n",
       "  </thead>\n",
       "  <tbody>\n",
       "    <tr>\n",
       "      <th>0</th>\n",
       "      <td>1</td>\n",
       "      <td>augmentin 625 duo tablet</td>\n",
       "      <td>Penciclav 500 mg/125 mg Tablet</td>\n",
       "      <td>Moxikind-CV 625 Tablet</td>\n",
       "      <td>Moxiforce-CV 625 Tablet</td>\n",
       "      <td>Fightox 625 Tablet</td>\n",
       "      <td>Novamox CV 625mg Tablet</td>\n",
       "      <td>Vomiting</td>\n",
       "      <td>Nausea</td>\n",
       "      <td>Diarrhea</td>\n",
       "      <td>...</td>\n",
       "      <td>NaN</td>\n",
       "      <td>Treatment of Bacterial infections</td>\n",
       "      <td>NaN</td>\n",
       "      <td>NaN</td>\n",
       "      <td>NaN</td>\n",
       "      <td>NaN</td>\n",
       "      <td>NaN</td>\n",
       "      <td>No</td>\n",
       "      <td>ANTI INFECTIVES</td>\n",
       "      <td>NaN</td>\n",
       "    </tr>\n",
       "    <tr>\n",
       "      <th>1</th>\n",
       "      <td>2</td>\n",
       "      <td>azithral 500 tablet</td>\n",
       "      <td>Zithrocare 500mg Tablet</td>\n",
       "      <td>Azax 500 Tablet</td>\n",
       "      <td>Zady 500 Tablet</td>\n",
       "      <td>Cazithro 500mg Tablet</td>\n",
       "      <td>Trulimax 500mg Tablet</td>\n",
       "      <td>Vomiting</td>\n",
       "      <td>Nausea</td>\n",
       "      <td>Abdominal pain</td>\n",
       "      <td>...</td>\n",
       "      <td>NaN</td>\n",
       "      <td>Treatment of Bacterial infections</td>\n",
       "      <td>NaN</td>\n",
       "      <td>NaN</td>\n",
       "      <td>NaN</td>\n",
       "      <td>NaN</td>\n",
       "      <td>Macrolides</td>\n",
       "      <td>No</td>\n",
       "      <td>ANTI INFECTIVES</td>\n",
       "      <td>Macrolides</td>\n",
       "    </tr>\n",
       "    <tr>\n",
       "      <th>2</th>\n",
       "      <td>3</td>\n",
       "      <td>ascoril ls syrup</td>\n",
       "      <td>Solvin LS Syrup</td>\n",
       "      <td>Ambrodil-LX Syrup</td>\n",
       "      <td>Zerotuss XP Syrup</td>\n",
       "      <td>Capex LS Syrup</td>\n",
       "      <td>Broxum LS Syrup</td>\n",
       "      <td>Nausea</td>\n",
       "      <td>Vomiting</td>\n",
       "      <td>Diarrhea</td>\n",
       "      <td>...</td>\n",
       "      <td>NaN</td>\n",
       "      <td>Treatment of Cough with mucus</td>\n",
       "      <td>NaN</td>\n",
       "      <td>NaN</td>\n",
       "      <td>NaN</td>\n",
       "      <td>NaN</td>\n",
       "      <td>NaN</td>\n",
       "      <td>No</td>\n",
       "      <td>RESPIRATORY</td>\n",
       "      <td>NaN</td>\n",
       "    </tr>\n",
       "    <tr>\n",
       "      <th>3</th>\n",
       "      <td>4</td>\n",
       "      <td>allegra 120mg tablet</td>\n",
       "      <td>Lcfex Tablet</td>\n",
       "      <td>Etofex 120mg Tablet</td>\n",
       "      <td>Nexofex 120mg Tablet</td>\n",
       "      <td>Fexise 120mg Tablet</td>\n",
       "      <td>Histafree 120 Tablet</td>\n",
       "      <td>Headache</td>\n",
       "      <td>Drowsiness</td>\n",
       "      <td>Dizziness</td>\n",
       "      <td>...</td>\n",
       "      <td>NaN</td>\n",
       "      <td>Treatment of Sneezing and runny nose due to al...</td>\n",
       "      <td>Treatment of Allergic conditions</td>\n",
       "      <td>NaN</td>\n",
       "      <td>NaN</td>\n",
       "      <td>NaN</td>\n",
       "      <td>Diphenylmethane Derivative</td>\n",
       "      <td>No</td>\n",
       "      <td>RESPIRATORY</td>\n",
       "      <td>H1 Antihistaminics (second Generation)</td>\n",
       "    </tr>\n",
       "    <tr>\n",
       "      <th>4</th>\n",
       "      <td>5</td>\n",
       "      <td>avil 25 tablet</td>\n",
       "      <td>Eralet 25mg Tablet</td>\n",
       "      <td>NaN</td>\n",
       "      <td>NaN</td>\n",
       "      <td>NaN</td>\n",
       "      <td>NaN</td>\n",
       "      <td>Sleepiness</td>\n",
       "      <td>Dryness in mouth</td>\n",
       "      <td>NaN</td>\n",
       "      <td>...</td>\n",
       "      <td>NaN</td>\n",
       "      <td>Treatment of Allergic conditions</td>\n",
       "      <td>NaN</td>\n",
       "      <td>NaN</td>\n",
       "      <td>NaN</td>\n",
       "      <td>NaN</td>\n",
       "      <td>Pyridines Derivatives</td>\n",
       "      <td>No</td>\n",
       "      <td>RESPIRATORY</td>\n",
       "      <td>H1 Antihistaminics (First Generation)</td>\n",
       "    </tr>\n",
       "  </tbody>\n",
       "</table>\n",
       "<p>5 rows × 58 columns</p>\n",
       "</div>"
      ],
      "text/plain": [
       "   id                      name                     substitute0  \\\n",
       "0   1  augmentin 625 duo tablet  Penciclav 500 mg/125 mg Tablet   \n",
       "1   2       azithral 500 tablet         Zithrocare 500mg Tablet   \n",
       "2   3          ascoril ls syrup                 Solvin LS Syrup   \n",
       "3   4      allegra 120mg tablet                    Lcfex Tablet   \n",
       "4   5            avil 25 tablet              Eralet 25mg Tablet   \n",
       "\n",
       "              substitute1              substitute2            substitute3  \\\n",
       "0  Moxikind-CV 625 Tablet  Moxiforce-CV 625 Tablet     Fightox 625 Tablet   \n",
       "1         Azax 500 Tablet          Zady 500 Tablet  Cazithro 500mg Tablet   \n",
       "2       Ambrodil-LX Syrup        Zerotuss XP Syrup         Capex LS Syrup   \n",
       "3     Etofex 120mg Tablet     Nexofex 120mg Tablet    Fexise 120mg Tablet   \n",
       "4                     NaN                      NaN                    NaN   \n",
       "\n",
       "               substitute4 sideEffect0       sideEffect1     sideEffect2  ...  \\\n",
       "0  Novamox CV 625mg Tablet    Vomiting            Nausea        Diarrhea  ...   \n",
       "1    Trulimax 500mg Tablet    Vomiting            Nausea  Abdominal pain  ...   \n",
       "2          Broxum LS Syrup      Nausea          Vomiting        Diarrhea  ...   \n",
       "3     Histafree 120 Tablet    Headache        Drowsiness       Dizziness  ...   \n",
       "4                      NaN  Sleepiness  Dryness in mouth             NaN  ...   \n",
       "\n",
       "  sideEffect41                                               use0  \\\n",
       "0          NaN                  Treatment of Bacterial infections   \n",
       "1          NaN                  Treatment of Bacterial infections   \n",
       "2          NaN                      Treatment of Cough with mucus   \n",
       "3          NaN  Treatment of Sneezing and runny nose due to al...   \n",
       "4          NaN                   Treatment of Allergic conditions   \n",
       "\n",
       "                               use1 use2 use3 use4  \\\n",
       "0                               NaN  NaN  NaN  NaN   \n",
       "1                               NaN  NaN  NaN  NaN   \n",
       "2                               NaN  NaN  NaN  NaN   \n",
       "3  Treatment of Allergic conditions  NaN  NaN  NaN   \n",
       "4                               NaN  NaN  NaN  NaN   \n",
       "\n",
       "               Chemical Class Habit Forming Therapeutic Class  \\\n",
       "0                         NaN            No   ANTI INFECTIVES   \n",
       "1                  Macrolides            No   ANTI INFECTIVES   \n",
       "2                         NaN            No       RESPIRATORY   \n",
       "3  Diphenylmethane Derivative            No       RESPIRATORY   \n",
       "4       Pyridines Derivatives            No       RESPIRATORY   \n",
       "\n",
       "                             Action Class  \n",
       "0                                     NaN  \n",
       "1                              Macrolides  \n",
       "2                                     NaN  \n",
       "3  H1 Antihistaminics (second Generation)  \n",
       "4   H1 Antihistaminics (First Generation)  \n",
       "\n",
       "[5 rows x 58 columns]"
      ]
     },
     "execution_count": 3,
     "metadata": {},
     "output_type": "execute_result"
    }
   ],
   "source": [
    "#exploring dataset\n",
    "df.head()"
   ]
  },
  {
   "cell_type": "code",
   "execution_count": 4,
   "id": "4c363127",
   "metadata": {
    "papermill": {
     "duration": 1.023731,
     "end_time": "2023-09-18T08:23:39.534162",
     "exception": false,
     "start_time": "2023-09-18T08:23:38.510431",
     "status": "completed"
    },
    "tags": []
   },
   "outputs": [
    {
     "name": "stdout",
     "output_type": "stream",
     "text": [
      "<class 'pandas.core.frame.DataFrame'>\n",
      "RangeIndex: 248218 entries, 0 to 248217\n",
      "Data columns (total 58 columns):\n",
      " #   Column             Non-Null Count   Dtype \n",
      "---  ------             --------------   ----- \n",
      " 0   id                 248218 non-null  int64 \n",
      " 1   name               248218 non-null  object\n",
      " 2   substitute0        238621 non-null  object\n",
      " 3   substitute1        233867 non-null  object\n",
      " 4   substitute2        230233 non-null  object\n",
      " 5   substitute3        226856 non-null  object\n",
      " 6   substitute4        223962 non-null  object\n",
      " 7   sideEffect0        248218 non-null  object\n",
      " 8   sideEffect1        238416 non-null  object\n",
      " 9   sideEffect2        229500 non-null  object\n",
      " 10  sideEffect3        207638 non-null  object\n",
      " 11  sideEffect4        163560 non-null  object\n",
      " 12  sideEffect5        131258 non-null  object\n",
      " 13  sideEffect6        91857 non-null   object\n",
      " 14  sideEffect7        67750 non-null   object\n",
      " 15  sideEffect8        48506 non-null   object\n",
      " 16  sideEffect9        37708 non-null   object\n",
      " 17  sideEffect10       27274 non-null   object\n",
      " 18  sideEffect11       20331 non-null   object\n",
      " 19  sideEffect12       16282 non-null   object\n",
      " 20  sideEffect13       14727 non-null   object\n",
      " 21  sideEffect14       10419 non-null   object\n",
      " 22  sideEffect15       7681 non-null    object\n",
      " 23  sideEffect16       6009 non-null    object\n",
      " 24  sideEffect17       5382 non-null    object\n",
      " 25  sideEffect18       4515 non-null    object\n",
      " 26  sideEffect19       3946 non-null    object\n",
      " 27  sideEffect20       3223 non-null    object\n",
      " 28  sideEffect21       3125 non-null    object\n",
      " 29  sideEffect22       3048 non-null    object\n",
      " 30  sideEffect23       2905 non-null    object\n",
      " 31  sideEffect24       2723 non-null    object\n",
      " 32  sideEffect25       1503 non-null    object\n",
      " 33  sideEffect26       1503 non-null    object\n",
      " 34  sideEffect27       1494 non-null    object\n",
      " 35  sideEffect28       1494 non-null    object\n",
      " 36  sideEffect29       1438 non-null    object\n",
      " 37  sideEffect30       1329 non-null    object\n",
      " 38  sideEffect31       1329 non-null    object\n",
      " 39  sideEffect32       1328 non-null    object\n",
      " 40  sideEffect33       1169 non-null    object\n",
      " 41  sideEffect34       1166 non-null    object\n",
      " 42  sideEffect35       2 non-null       object\n",
      " 43  sideEffect36       2 non-null       object\n",
      " 44  sideEffect37       2 non-null       object\n",
      " 45  sideEffect38       2 non-null       object\n",
      " 46  sideEffect39       2 non-null       object\n",
      " 47  sideEffect40       2 non-null       object\n",
      " 48  sideEffect41       2 non-null       object\n",
      " 49  use0               248218 non-null  object\n",
      " 50  use1               73365 non-null   object\n",
      " 51  use2               28307 non-null   object\n",
      " 52  use3               7379 non-null    object\n",
      " 53  use4               4971 non-null    object\n",
      " 54  Chemical Class     137791 non-null  object\n",
      " 55  Habit Forming      248218 non-null  object\n",
      " 56  Therapeutic Class  248149 non-null  object\n",
      " 57  Action Class       138036 non-null  object\n",
      "dtypes: int64(1), object(57)\n",
      "memory usage: 109.8+ MB\n"
     ]
    }
   ],
   "source": [
    "df.info()"
   ]
  },
  {
   "cell_type": "code",
   "execution_count": 5,
   "id": "4926e2c5",
   "metadata": {
    "papermill": {
     "duration": 2.223722,
     "end_time": "2023-09-18T08:23:41.769572",
     "exception": false,
     "start_time": "2023-09-18T08:23:39.545850",
     "status": "completed"
    },
    "tags": []
   },
   "outputs": [
    {
     "data": {
      "image/png": "[encoded data removed]",
      "text/plain": [
       "<Figure size 640x480 with 1 Axes>"
      ]
     },
     "metadata": {},
     "output_type": "display_data"
    }
   ],
   "source": [
    "#Check if there is any missing values in the dataset\n",
    "df.isna().sum().plot(kind='bar')\n",
    "plt.tight_layout()\n",
    "plt.title('Missing Values in the Dataset')\n",
    "\n",
    "plt.show()"
   ]
  },
  {
   "cell_type": "markdown",
   "id": "c460e4f4",
   "metadata": {
    "papermill": {
     "duration": 0.011125,
     "end_time": "2023-09-18T08:23:41.792367",
     "exception": false,
     "start_time": "2023-09-18T08:23:41.781242",
     "status": "completed"
    },
    "tags": []
   },
   "source": [
    "We can see, here the dataset has a lot of missing values. Therefore, we will calculate the 5% value of dataset and the col that have missing values more than 5% will be dropped"
   ]
  },
  {
   "cell_type": "code",
   "execution_count": 6,
   "id": "b3e02468",
   "metadata": {
    "papermill": {
     "duration": 0.022005,
     "end_time": "2023-09-18T08:23:41.826834",
     "exception": false,
     "start_time": "2023-09-18T08:23:41.804829",
     "status": "completed"
    },
    "tags": []
   },
   "outputs": [
    {
     "name": "stdout",
     "output_type": "stream",
     "text": [
      "12410.900000000001\n"
     ]
    }
   ],
   "source": [
    "#Calculate the 5% values of dataset\n",
    "threshold= len(df)* 0.05\n",
    "print(threshold)"
   ]
  },
  {
   "cell_type": "code",
   "execution_count": 7,
   "id": "3804bc87",
   "metadata": {
    "papermill": {
     "duration": 1.005812,
     "end_time": "2023-09-18T08:23:42.844188",
     "exception": false,
     "start_time": "2023-09-18T08:23:41.838376",
     "status": "completed"
    },
    "tags": []
   },
   "outputs": [
    {
     "name": "stdout",
     "output_type": "stream",
     "text": [
      "Index(['substitute1', 'substitute2', 'substitute3', 'substitute4',\n",
      "       'sideEffect2', 'sideEffect3', 'sideEffect4', 'sideEffect5',\n",
      "       'sideEffect6', 'sideEffect7', 'sideEffect8', 'sideEffect9',\n",
      "       'sideEffect10', 'sideEffect11', 'sideEffect12', 'sideEffect13',\n",
      "       'sideEffect14', 'sideEffect15', 'sideEffect16', 'sideEffect17',\n",
      "       'sideEffect18', 'sideEffect19', 'sideEffect20', 'sideEffect21',\n",
      "       'sideEffect22', 'sideEffect23', 'sideEffect24', 'sideEffect25',\n",
      "       'sideEffect26', 'sideEffect27', 'sideEffect28', 'sideEffect29',\n",
      "       'sideEffect30', 'sideEffect31', 'sideEffect32', 'sideEffect33',\n",
      "       'sideEffect34', 'sideEffect35', 'sideEffect36', 'sideEffect37',\n",
      "       'sideEffect38', 'sideEffect39', 'sideEffect40', 'sideEffect41', 'use1',\n",
      "       'use2', 'use3', 'use4', 'Chemical Class', 'Action Class'],\n",
      "      dtype='object')\n"
     ]
    }
   ],
   "source": [
    "#Cols that have more than or equal with 5% missing values\n",
    "cols_drop= df.columns[df.isna().sum()>= threshold]\n",
    "print(cols_drop)"
   ]
  },
  {
   "cell_type": "code",
   "execution_count": 8,
   "id": "84ba9089",
   "metadata": {
    "papermill": {
     "duration": 1.00829,
     "end_time": "2023-09-18T08:23:43.864019",
     "exception": false,
     "start_time": "2023-09-18T08:23:42.855729",
     "status": "completed"
    },
    "tags": []
   },
   "outputs": [
    {
     "name": "stdout",
     "output_type": "stream",
     "text": [
      "Index(['id', 'name', 'substitute0', 'sideEffect0', 'sideEffect1', 'use0',\n",
      "       'Habit Forming', 'Therapeutic Class'],\n",
      "      dtype='object')\n"
     ]
    }
   ],
   "source": [
    "#Cols that have less than 5% missing value\n",
    "cols_with_missingval= df.columns[df.isna().sum() < threshold]\n",
    "print(cols_with_missingval)\n"
   ]
  },
  {
   "cell_type": "markdown",
   "id": "305dbf36",
   "metadata": {
    "papermill": {
     "duration": 0.01539,
     "end_time": "2023-09-18T08:23:43.917274",
     "exception": false,
     "start_time": "2023-09-18T08:23:43.901884",
     "status": "completed"
    },
    "tags": []
   },
   "source": [
    "To prevent any unclear information, we will use cols that have less than 5% of missing values for generate insight data. \n"
   ]
  },
  {
   "cell_type": "code",
   "execution_count": 9,
   "id": "83c6083a",
   "metadata": {
    "papermill": {
     "duration": 0.057578,
     "end_time": "2023-09-18T08:23:43.990492",
     "exception": false,
     "start_time": "2023-09-18T08:23:43.932914",
     "status": "completed"
    },
    "tags": []
   },
   "outputs": [
    {
     "name": "stdout",
     "output_type": "stream",
     "text": [
      "326\n"
     ]
    }
   ],
   "source": [
    "#Unique sideEffect\n",
    "print(df['sideEffect0'].nunique())"
   ]
  },
  {
   "cell_type": "markdown",
   "id": "3b1193e0",
   "metadata": {
    "papermill": {
     "duration": 0.011353,
     "end_time": "2023-09-18T08:23:44.013621",
     "exception": false,
     "start_time": "2023-09-18T08:23:44.002268",
     "status": "completed"
    },
    "tags": []
   },
   "source": [
    "There are 326 different type of side effects in this dataset"
   ]
  },
  {
   "cell_type": "code",
   "execution_count": 10,
   "id": "936307d2",
   "metadata": {
    "papermill": {
     "duration": 0.11222,
     "end_time": "2023-09-18T08:23:44.137614",
     "exception": false,
     "start_time": "2023-09-18T08:23:44.025394",
     "status": "completed"
    },
    "tags": []
   },
   "outputs": [
    {
     "name": "stdout",
     "output_type": "stream",
     "text": [
      "222825\n"
     ]
    }
   ],
   "source": [
    "#Unique name\n",
    "print(df['name'].nunique())"
   ]
  },
  {
   "cell_type": "code",
   "execution_count": 11,
   "id": "b3a5d399",
   "metadata": {
    "papermill": {
     "duration": 0.059361,
     "end_time": "2023-09-18T08:23:44.208881",
     "exception": false,
     "start_time": "2023-09-18T08:23:44.149520",
     "status": "completed"
    },
    "tags": []
   },
   "outputs": [
    {
     "name": "stdout",
     "output_type": "stream",
     "text": [
      "657\n"
     ]
    }
   ],
   "source": [
    "#Unique treatment\n",
    "print(df['use0'].nunique())"
   ]
  },
  {
   "cell_type": "markdown",
   "id": "6721b0cb",
   "metadata": {
    "papermill": {
     "duration": 0.011453,
     "end_time": "2023-09-18T08:23:44.232162",
     "exception": false,
     "start_time": "2023-09-18T08:23:44.220709",
     "status": "completed"
    },
    "tags": []
   },
   "source": [
    "And 657 different treatments"
   ]
  },
  {
   "cell_type": "code",
   "execution_count": 12,
   "id": "f8444067",
   "metadata": {
    "papermill": {
     "duration": 0.07091,
     "end_time": "2023-09-18T08:23:44.314820",
     "exception": false,
     "start_time": "2023-09-18T08:23:44.243910",
     "status": "completed"
    },
    "tags": []
   },
   "outputs": [
    {
     "name": "stdout",
     "output_type": "stream",
     "text": [
      "use0\n",
      "Treatment of Bacterial infections                             39573\n",
      " Pain relief                                                  22783\n",
      "Treatment of Type 2 diabetes mellitus                         11350\n",
      " Bacterial infections                                         11288\n",
      "Treatment of Gastroesophageal reflux disease (Acid reflux)     9749\n",
      "                                                              ...  \n",
      " Vision loss due to swelling of the macula                        1\n",
      "Treatment of Thyroid cancer                                       1\n",
      "Treatment of Cataract                                             1\n",
      "Treatment of Invasive Aspergillosis                               1\n",
      " Severe acute pain                                                1\n",
      "Name: count, Length: 657, dtype: int64\n"
     ]
    }
   ],
   "source": [
    "#Explore the popular use\n",
    "print(df['use0'].value_counts(dropna=False, ascending=False))"
   ]
  },
  {
   "cell_type": "markdown",
   "id": "31a7dee6",
   "metadata": {
    "papermill": {
     "duration": 0.011682,
     "end_time": "2023-09-18T08:23:44.338559",
     "exception": false,
     "start_time": "2023-09-18T08:23:44.326877",
     "status": "completed"
    },
    "tags": []
   },
   "source": [
    "We can see here, that top 5 popular treatments are\n",
    "- Bacterial infections\n",
    "- Pain relief\n",
    "- Diabetes mellitus\n",
    "- Gastroesophageal reflux disease (Acid reflux)\n"
   ]
  },
  {
   "cell_type": "code",
   "execution_count": 13,
   "id": "2cbcf229",
   "metadata": {
    "papermill": {
     "duration": 0.957478,
     "end_time": "2023-09-18T08:23:45.307949",
     "exception": false,
     "start_time": "2023-09-18T08:23:44.350471",
     "status": "completed"
    },
    "tags": []
   },
   "outputs": [
    {
     "name": "stderr",
     "output_type": "stream",
     "text": [
      "C:\\Users\\rosha\\AppData\\Local\\Temp\\ipykernel_12076\\1905094901.py:3: UserWarning: This pattern is interpreted as a regular expression, and has match groups. To actually get the groups, use str.extract.\n",
      "  count1 = df['use0'].str.contains('|'.join(Treatments), case=False).value_counts()\n"
     ]
    },
    {
     "data": {
      "image/png": "[encoded data removed]",
      "text/plain": [
       "<Figure size 640x480 with 1 Axes>"
      ]
     },
     "metadata": {},
     "output_type": "display_data"
    }
   ],
   "source": [
    "#Explore the distribution of use0 (treatments that popular)\n",
    "Treatments =['Treatment of Bacterial infections','Bacterial infections','Pain relief','Treatment of Type 2 diabetes mellitus','Treatment of Gastroesophageal reflux disease(Acid reflux)']\n",
    "count1 = df['use0'].str.contains('|'.join(Treatments), case=False).value_counts()\n",
    "\n",
    "#Ploting\n",
    "sns.barplot(x=count1.index, y=count1.values, hue=count1)\n",
    "\n",
    "plt.xlabel('Popular treatments')\n",
    "plt.ylabel('Count')\n",
    "plt.title('Count of Popular treatments')\n",
    "plt.show()"
   ]
  },
  {
   "cell_type": "markdown",
   "id": "89475591",
   "metadata": {
    "papermill": {
     "duration": 0.012351,
     "end_time": "2023-09-18T08:23:45.333715",
     "exception": false,
     "start_time": "2023-09-18T08:23:45.321364",
     "status": "completed"
    },
    "tags": []
   },
   "source": [
    "**The chart show here, indicate that, top 5 popular treatments that showed above have present more than 50% dataset**\n"
   ]
  },
  {
   "cell_type": "code",
   "execution_count": 14,
   "id": "e7515885",
   "metadata": {
    "papermill": {
     "duration": 0.266693,
     "end_time": "2023-09-18T08:23:45.613371",
     "exception": false,
     "start_time": "2023-09-18T08:23:45.346678",
     "status": "completed"
    },
    "tags": []
   },
   "outputs": [
    {
     "data": {
      "text/plain": [
       "name\n",
       "ns 0.9% infusion                     13\n",
       "meditrax s 1000mg/500mg injection     8\n",
       "modace 100mg/500mg tablet             6\n",
       "mucohelp 1gm injection                6\n",
       "matchfix-cv 200mg/125mg tablet        6\n",
       "                                     ..\n",
       "etoxiflam 120mg tablet                1\n",
       "etocrax 90mg tablet                   1\n",
       "edikacin 500mg injection              1\n",
       "eurotam 0.40mg tablet                 1\n",
       "zyvocol 1% dusting powder             1\n",
       "Name: count, Length: 222825, dtype: int64"
      ]
     },
     "execution_count": 14,
     "metadata": {},
     "output_type": "execute_result"
    }
   ],
   "source": [
    "#Explore the popular name\n",
    "drug_name = df['name']\n",
    "drug_name.value_counts(dropna=False, ascending=False)"
   ]
  },
  {
   "cell_type": "markdown",
   "id": "e039dff7",
   "metadata": {
    "papermill": {
     "duration": 0.012815,
     "end_time": "2023-09-18T08:23:45.639122",
     "exception": false,
     "start_time": "2023-09-18T08:23:45.626307",
     "status": "completed"
    },
    "tags": []
   },
   "source": [
    "The drugs named (ns 0.9% infusion and meditrax s 1000mg/500mg injection) have appear more than 5 time with 13 and 8. "
   ]
  },
  {
   "cell_type": "code",
   "execution_count": 15,
   "id": "029a13db",
   "metadata": {
    "papermill": {
     "duration": 0.072199,
     "end_time": "2023-09-18T08:23:45.724192",
     "exception": false,
     "start_time": "2023-09-18T08:23:45.651993",
     "status": "completed"
    },
    "tags": []
   },
   "outputs": [
    {
     "data": {
      "text/plain": [
       "sideEffect0\n",
       "Nausea                               68477\n",
       "Diarrhea                             24253\n",
       "Headache                             16841\n",
       "Vomiting                             15031\n",
       "Rash                                 11249\n",
       "                                     ...  \n",
       "Central nervous system depression        1\n",
       "Breast enlargement                       1\n",
       "Transient stinging                       1\n",
       "Increased intraocular pressure           1\n",
       "Acute toxicity                           1\n",
       "Name: count, Length: 326, dtype: int64"
      ]
     },
     "execution_count": 15,
     "metadata": {},
     "output_type": "execute_result"
    }
   ],
   "source": [
    "#Exploring the popular side effects\n",
    "df[\"sideEffect0\"].value_counts()"
   ]
  },
  {
   "cell_type": "markdown",
   "id": "04b96320",
   "metadata": {
    "papermill": {
     "duration": 0.012979,
     "end_time": "2023-09-18T08:23:45.750445",
     "exception": false,
     "start_time": "2023-09-18T08:23:45.737466",
     "status": "completed"
    },
    "tags": []
   },
   "source": [
    "Top 5 side effects that appear often in sideEffect0 according to the data are:\n",
    "- Nausea       :                        68477\n",
    "- Diarrhea      :                       24253\n",
    "- Headache       :                      16841\n",
    "- Vomiting     :                        15031\n",
    "- Rash         :                        11249"
   ]
  },
  {
   "cell_type": "code",
   "execution_count": 16,
   "id": "65d125f8",
   "metadata": {
    "papermill": {
     "duration": 0.658494,
     "end_time": "2023-09-18T08:23:46.422030",
     "exception": false,
     "start_time": "2023-09-18T08:23:45.763536",
     "status": "completed"
    },
    "tags": []
   },
   "outputs": [
    {
     "name": "stderr",
     "output_type": "stream",
     "text": [
      "C:\\Users\\rosha\\AppData\\Local\\Temp\\ipykernel_12076\\2444378454.py:7: FutureWarning: \n",
      "\n",
      "Passing `palette` without assigning `hue` is deprecated and will be removed in v0.14.0. Assign the `x` variable to `hue` and set `legend=False` for the same effect.\n",
      "\n",
      "  sns.barplot(x=count_series.index, y=count_series.values, palette='viridis')\n"
     ]
    },
    {
     "data": {
      "image/png": "[encoded data removed]",
      "text/plain": [
       "<Figure size 640x480 with 1 Axes>"
      ]
     },
     "metadata": {},
     "output_type": "display_data"
    }
   ],
   "source": [
    "#Looking at top of popular side effect\n",
    "side_effects =['Nausea', 'Diarrhea', 'Headache', 'Vomiting', 'Rash']\n",
    "count_series = df['sideEffect0'].str.contains('|'.join(side_effects), case=False).value_counts()\n",
    "\n",
    "\n",
    "#Ploting the popular side effects\n",
    "sns.barplot(x=count_series.index, y=count_series.values, palette='viridis')\n",
    "\n",
    "plt.xlabel('Popular side Effects')\n",
    "plt.ylabel('Count')\n",
    "plt.title('Count of Popular Side Effects')\n",
    "plt.show()"
   ]
  },
  {
   "cell_type": "code",
   "execution_count": 17,
   "id": "c9c8e8c4",
   "metadata": {
    "papermill": {
     "duration": 0.60879,
     "end_time": "2023-09-18T08:23:47.049521",
     "exception": false,
     "start_time": "2023-09-18T08:23:46.440731",
     "status": "completed"
    },
    "tags": []
   },
   "outputs": [
    {
     "name": "stdout",
     "output_type": "stream",
     "text": [
      "use0\n",
      "Treatment of Anxiety disorder                                                                 1284\n",
      " Moderate to severe pain                                                                       639\n",
      "Treatment of Anxiety                                                                           549\n",
      " Pain relief                                                                                   309\n",
      "Treatment of Insomnia                                                                          280\n",
      "                                                                                              ... \n",
      " Severe chronic pain Severe chronic pain                                                         1\n",
      "Treatment of DepressionTreatment of DepressionTreatment of Depression                            1\n",
      " Common cold Common cold                                                                         1\n",
      " Anesthesia Anesthesia                                                                           1\n",
      "Treatment of Epilepsy/SeizuresTreatment of Epilepsy/SeizuresTreatment of Epilepsy/Seizures       1\n",
      "Name: count, Length: 81, dtype: int64\n"
     ]
    },
    {
     "data": {
      "image/png": "[encoded data removed]",
      "text/plain": [
       "<Figure size 640x480 with 1 Axes>"
      ]
     },
     "metadata": {},
     "output_type": "display_data"
    }
   ],
   "source": [
    "#Explore the relationship between medicine and habit forming\n",
    "habit_forming = df[df[\"Habit Forming\"] == \"Yes\"]\n",
    "medicine_habit = habit_forming.groupby(['name', 'Habit Forming'])['use0'].sum()\n",
    "medicine_habit.sort_index(ascending=False)\n",
    "print(medicine_habit.value_counts())\n",
    "\n",
    "\n",
    "#Plot\n",
    "sns.countplot(x='Habit Forming', data=df)\n",
    "plt.show()\n"
   ]
  },
  {
   "cell_type": "markdown",
   "id": "f6b6bf5d",
   "metadata": {
    "papermill": {
     "duration": 0.013708,
     "end_time": "2023-09-18T08:23:47.077541",
     "exception": false,
     "start_time": "2023-09-18T08:23:47.063833",
     "status": "completed"
    },
    "tags": []
   },
   "source": [
    "Here, we can see top treatments that forming habit often fall into categories of:\n",
    "* Treatment of Anxiety disorder            \n",
    "* Moderate to severe pain                 \n",
    "* Treatment of Anxiety                                                                           \n",
    "* Pain relief                                                                                   \n",
    "* Treatment of Insomnia \n"
   ]
  },
  {
   "cell_type": "code",
   "execution_count": 18,
   "id": "d8c5e7ee",
   "metadata": {
    "papermill": {
     "duration": 0.071935,
     "end_time": "2023-09-18T08:23:47.163614",
     "exception": false,
     "start_time": "2023-09-18T08:23:47.091679",
     "status": "completed"
    },
    "tags": []
   },
   "outputs": [
    {
     "name": "stdout",
     "output_type": "stream",
     "text": [
      "Habit Forming\n",
      "No     97.581561\n",
      "Yes     2.418439\n",
      "Name: proportion, dtype: float64\n"
     ]
    }
   ],
   "source": [
    "#Percentage of medicines that forming habit\n",
    "percentage = df['Habit Forming'].value_counts(normalize=True)*100\n",
    "print(percentage)"
   ]
  },
  {
   "cell_type": "markdown",
   "id": "c1f7572c",
   "metadata": {
    "papermill": {
     "duration": 0.013916,
     "end_time": "2023-09-18T08:23:47.191841",
     "exception": false,
     "start_time": "2023-09-18T08:23:47.177925",
     "status": "completed"
    },
    "tags": []
   },
   "source": [
    "There are 2.4% type of medicine and treatments that can form habit, while 97.6% do not form habit"
   ]
  },
  {
   "cell_type": "code",
   "execution_count": 19,
   "id": "77e3731b",
   "metadata": {
    "papermill": {
     "duration": 0.378185,
     "end_time": "2023-09-18T08:23:47.584290",
     "exception": false,
     "start_time": "2023-09-18T08:23:47.206105",
     "status": "completed"
    },
    "tags": []
   },
   "outputs": [
    {
     "name": "stdout",
     "output_type": "stream",
     "text": [
      "                                        id  \\\n",
      "Therapeutic Class Habit Forming              \n",
      "CARDIAC           Yes              1128325   \n",
      "GASTRO INTESTINAL Yes             30092649   \n",
      "NEURO CNS         Yes            469182380   \n",
      "PAIN ANALGESICS   Yes            180877162   \n",
      "RESPIRATORY       Yes             55853745   \n",
      "\n",
      "                                                                              name  \\\n",
      "Therapeutic Class Habit Forming                                                      \n",
      "CARDIAC           Yes            mephentine 30mg injectionmephentine 15mg injec...   \n",
      "GASTRO INTESTINAL Yes            aurinorm 5 mg/2.5 mg tabletabdocool tabletarwi...   \n",
      "NEURO CNS         Yes            alprax 0.25 tabletalprax 0.5mg tabletamixide-h...   \n",
      "PAIN ANALGESICS   Yes            acuvin tabletactidol-dp tabletaltram tabletact...   \n",
      "RESPIRATORY       Yes            ativan 2mg tabletativan 1mg tabletascoril c  s...   \n",
      "\n",
      "                                                                       substitute0  \\\n",
      "Therapeutic Class Habit Forming                                                      \n",
      "CARDIAC           Yes            Termiva InjectionTermin 15mg InjectionTermin 1...   \n",
      "GASTRO INTESTINAL Yes            Libopil 5 mg/2.5 mg TabletCromide Forte 2.5 mg...   \n",
      "NEURO CNS         Yes            Alltop 0.25mg TabletAlprasafe 0.5mg TabletTrix...   \n",
      "PAIN ANALGESICS   Yes            Tolydol TabletTrson D TabletTodol P TabletTrso...   \n",
      "RESPIRATORY       Yes            Zepnap 2mg TabletLzepam 1mg TabletCosome Lcd 4...   \n",
      "\n",
      "                                                                       substitute1  \\\n",
      "Therapeutic Class Habit Forming                                                      \n",
      "CARDIAC           Yes            Termin 30mg InjectionPhentin 15mg InjectionMep...   \n",
      "GASTRO INTESTINAL Yes            Libnam 5 mg/2.5 mg TabletSpasburg-D TabletLibn...   \n",
      "NEURO CNS         Yes            Alprasafe 0.25mg TabletAlparazole 0.5mg Tablet...   \n",
      "PAIN ANALGESICS   Yes            PT 325mg/37.5mg TabletKMR TabletTramavin P Tab...   \n",
      "RESPIRATORY       Yes            Lorel 2mg TabletLopam 1mg TabletHistolate Syru...   \n",
      "\n",
      "                                                                       substitute2  \\\n",
      "Therapeutic Class Habit Forming                                                      \n",
      "CARDIAC           Yes                                                            0   \n",
      "GASTRO INTESTINAL Yes            Cromide 5mg/2.5mg TabletSerecon-D TabletCromid...   \n",
      "NEURO CNS         Yes            Nindra 0.25mg TabletAlprazol 0.5mg TabletAculi...   \n",
      "PAIN ANALGESICS   Yes            Calpol T  TabletDismol DP 10 mg/325 mg/37.5 mg...   \n",
      "RESPIRATORY       Yes            Texina 2mg TabletZepnap 1mg TabletCodine  4 mg...   \n",
      "\n",
      "                                                                       substitute3  \\\n",
      "Therapeutic Class Habit Forming                                                      \n",
      "CARDIAC           Yes                                                            0   \n",
      "GASTRO INTESTINAL Yes            Serecon TabletCyclon 2.5 mg/5 mg/10 mg TabletS...   \n",
      "NEURO CNS         Yes            Alora 0.25mg TabletTexidep 0.5mg TabletTrixide...   \n",
      "PAIN ANALGESICS   Yes            Dolonat TabletMeridol D TabletAnaltra P Tablet...   \n",
      "RESPIRATORY       Yes            Larpose 2mg TabletLorel 1mg TabletIndikof C Sy...   \n",
      "\n",
      "                                                                       substitute4  \\\n",
      "Therapeutic Class Habit Forming                                                      \n",
      "CARDIAC           Yes                                                            0   \n",
      "GASTRO INTESTINAL Yes            Normaxin CC 5mg/2.5mg TabletNormaxin TabletNor...   \n",
      "NEURO CNS         Yes            Exal 0.25mg TabletZolipax 0.5mg TabletKimitrip...   \n",
      "PAIN ANALGESICS   Yes            Ultramol 325 mg/37.5 mg TabletNopidol DP Table...   \n",
      "RESPIRATORY       Yes            Zelor 2mg TabletLarpose 1mg TabletComtus DX Sy...   \n",
      "\n",
      "                                                                       sideEffect0  \\\n",
      "Therapeutic Class Habit Forming                                                      \n",
      "CARDIAC           Yes            Systemic hypertension (high blood pressure)Sys...   \n",
      "GASTRO INTESTINAL Yes            SleepinessNauseaSleepinessSleepinessSleepiness...   \n",
      "NEURO CNS         Yes            LightheadednessLightheadednessConstipationLigh...   \n",
      "PAIN ANALGESICS   Yes            NauseaNauseaNauseaNauseaNauseaNauseaNauseaNaus...   \n",
      "RESPIRATORY       Yes            FatigueDizzinessNauseaFatigueDizzinessDizzines...   \n",
      "\n",
      "                                                                       sideEffect1  \\\n",
      "Therapeutic Class Habit Forming                                                      \n",
      "CARDIAC           Yes                   AnxietyAnxietyAnxietyAnxietyAnxietyAnxiety   \n",
      "GASTRO INTESTINAL Yes            NauseaConstipationNauseaNauseaNauseaConstipati...   \n",
      "NEURO CNS         Yes            DrowsinessDrowsinessDifficulty in urinationDro...   \n",
      "PAIN ANALGESICS   Yes            VomitingVomitingVomitingVomitingConstipationVo...   \n",
      "RESPIRATORY       Yes            Balance disorder (loss of balance)WeaknessVomi...   \n",
      "\n",
      "                                                                       sideEffect2  \\\n",
      "Therapeutic Class Habit Forming                                                      \n",
      "CARDIAC           Yes            Insomnia (difficulty in sleeping)Insomnia (dif...   \n",
      "GASTRO INTESTINAL Yes            ConstipationNervousnessConstipationConstipatio...   \n",
      "NEURO CNS         Yes            Weight gainAnxietyMemory impairmentAbdominal p...   \n",
      "PAIN ANALGESICS   Yes            ConstipationConstipationConstipationConstipati...   \n",
      "RESPIRATORY       Yes            DizzinessSedationConstipationDizzinessSedation...   \n",
      "\n",
      "                                 ... sideEffect39 sideEffect40 sideEffect41  \\\n",
      "Therapeutic Class Habit Forming  ...                                          \n",
      "CARDIAC           Yes            ...            0            0            0   \n",
      "GASTRO INTESTINAL Yes            ...            0            0            0   \n",
      "NEURO CNS         Yes            ...            0            0            0   \n",
      "PAIN ANALGESICS   Yes            ...            0            0            0   \n",
      "RESPIRATORY       Yes            ...            0            0            0   \n",
      "\n",
      "                                                                              use0  \\\n",
      "Therapeutic Class Habit Forming                                                      \n",
      "CARDIAC           Yes             Decreased blood pressure Decreased blood pres...   \n",
      "GASTRO INTESTINAL Yes            Treatment of Irritable bowel syndromeTreatment...   \n",
      "NEURO CNS         Yes            Treatment of AnxietyTreatment of AnxietyTreatm...   \n",
      "PAIN ANALGESICS   Yes             Pain reliefTreatment of Severe acute pain Pai...   \n",
      "RESPIRATORY       Yes            Treatment of Short term anxietyTreatment of Sh...   \n",
      "\n",
      "                                                                              use1  \\\n",
      "Therapeutic Class Habit Forming                                                      \n",
      "CARDIAC           Yes                                                            0   \n",
      "GASTRO INTESTINAL Yes                                              Acidity Acidity   \n",
      "NEURO CNS         Yes            Treatment of Panic disorderTreatment of Panic ...   \n",
      "PAIN ANALGESICS   Yes            Treatment of VomitingTreatment of Vomiting Sev...   \n",
      "RESPIRATORY       Yes            Treatment of Anxiety disorderTreatment of Anxi...   \n",
      "\n",
      "                                                                              use2  \\\n",
      "Therapeutic Class Habit Forming                                                      \n",
      "CARDIAC           Yes                                                            0   \n",
      "GASTRO INTESTINAL Yes                                                            0   \n",
      "NEURO CNS         Yes             Muscle spasm Muscle spasm Muscle spasmTreatme...   \n",
      "PAIN ANALGESICS   Yes                                                            0   \n",
      "RESPIRATORY       Yes            Treatment of Anxiety disorderTreatment of Anxi...   \n",
      "\n",
      "                                                                              use3  \\\n",
      "Therapeutic Class Habit Forming                                                      \n",
      "CARDIAC           Yes                                                            0   \n",
      "GASTRO INTESTINAL Yes                                                            0   \n",
      "NEURO CNS         Yes             Epilepsy Epilepsy EpilepsyTreatment of Alcoho...   \n",
      "PAIN ANALGESICS   Yes                                                            0   \n",
      "RESPIRATORY       Yes                                                            0   \n",
      "\n",
      "                                use4  \\\n",
      "Therapeutic Class Habit Forming        \n",
      "CARDIAC           Yes              0   \n",
      "GASTRO INTESTINAL Yes              0   \n",
      "NEURO CNS         Yes              0   \n",
      "PAIN ANALGESICS   Yes              0   \n",
      "RESPIRATORY       Yes              0   \n",
      "\n",
      "                                                                    Chemical Class  \\\n",
      "Therapeutic Class Habit Forming                                                      \n",
      "CARDIAC           Yes            Amphetamines DerivativesAmphetamines Derivativ...   \n",
      "GASTRO INTESTINAL Yes                                                            0   \n",
      "NEURO CNS         Yes            Benzodiazepines DerivativeBenzodiazepines Deri...   \n",
      "PAIN ANALGESICS   Yes            Anisole DerivativeAnisole DerivativeAnisole De...   \n",
      "RESPIRATORY       Yes            Benzodiazepines DerivativeBenzodiazepines Deri...   \n",
      "\n",
      "                                                                      Action Class  \n",
      "Therapeutic Class Habit Forming                                                     \n",
      "CARDIAC           Yes            Sympathomimetics agonistSympathomimetics agoni...  \n",
      "GASTRO INTESTINAL Yes                                                            0  \n",
      "NEURO CNS         Yes            BenzodiazepinesBenzodiazepinesBenzodiazepinesB...  \n",
      "PAIN ANALGESICS   Yes            OpioidsOpioidsOpioidsOpioidsOpioidsOpioidsOpio...  \n",
      "RESPIRATORY       Yes            BenzodiazepinesBenzodiazepinesBenzodiazepinesB...  \n",
      "\n",
      "[5 rows x 56 columns]\n"
     ]
    },
    {
     "data": {
      "image/png": "[encoded data removed]",
      "text/plain": [
       "<Figure size 640x480 with 1 Axes>"
      ]
     },
     "metadata": {},
     "output_type": "display_data"
    }
   ],
   "source": [
    "#Exloring the relationship between Therapeutic class and Habit forming\n",
    "habit_forming = df[df[\"Habit Forming\"] == \"Yes\"]\n",
    "Therapeutic_habit= habit_forming.groupby(['Therapeutic Class', 'Habit Forming']).sum()\n",
    "print(Therapeutic_habit)\n",
    "\n",
    "# Reset the index of the DataFrame to move 'Therapeutic Class' and 'Habit Forming' back as columns\n",
    "Therapeutic_habit = Therapeutic_habit.reset_index()\n",
    "\n",
    "# Plot\n",
    "sns.barplot(x='Therapeutic Class', y='id', hue='Habit Forming', data=Therapeutic_habit)\n",
    "plt.xlabel('Therapeutic Class')\n",
    "plt.title('Sum of id for Habit Forming drugs per Therapeutic Class')\n",
    "plt.xticks(rotation=90)\n",
    "\n",
    "plt.show()\n"
   ]
  },
  {
   "cell_type": "markdown",
   "id": "d830b218",
   "metadata": {
    "papermill": {
     "duration": 0.014569,
     "end_time": "2023-09-18T08:23:47.614138",
     "exception": false,
     "start_time": "2023-09-18T08:23:47.599569",
     "status": "completed"
    },
    "tags": []
   },
   "source": [
    "**Looking at the graph, we can see that 'Neuro CNS' appears the most in creating habit. "
   ]
  },
  {
   "cell_type": "code",
   "execution_count": null,
   "id": "32bab66c-39ea-46ef-b1f0-060680a9a52f",
   "metadata": {},
   "outputs": [],
   "source": []
  }
 ],
 "metadata": {
  "kernelspec": {
   "display_name": "Python 3 (ipykernel)",
   "language": "python",
   "name": "python3"
  },
  "language_info": {
   "codemirror_mode": {
    "name": "ipython",
    "version": 3
   },
   "file_extension": ".py",
   "mimetype": "text/x-python",
   "name": "python",
   "nbconvert_exporter": "python",
   "pygments_lexer": "ipython3",
   "version": "3.8.10"
  },
  "papermill": {
   "default_parameters": {},
   "duration": 29.596235,
   "end_time": "2023-09-18T08:23:48.554130",
   "environment_variables": {},
   "exception": null,
   "input_path": "__notebook__.ipynb",
   "output_path": "__notebook__.ipynb",
   "parameters": {},
   "start_time": "2023-09-18T08:23:18.957895",
   "version": "2.4.0"
  }
 },
 "nbformat": 4,
 "nbformat_minor": 5
}
